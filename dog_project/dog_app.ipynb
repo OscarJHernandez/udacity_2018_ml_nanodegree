{
 "cells": [
  {
   "cell_type": "markdown",
   "metadata": {},
   "source": [
    "# Artificial Intelligence Nanodegree\n",
    "\n",
    "## Convolutional Neural Networks\n",
    "\n",
    "## Project: Write an Algorithm for a Dog Identification App \n",
    "\n",
    "---\n",
    "\n",
    "In this notebook, some template code has already been provided for you, and you will need to implement additional functionality to successfully complete this project. You will not need to modify the included code beyond what is requested. Sections that begin with **'(IMPLEMENTATION)'** in the header indicate that the following block of code will require additional functionality which you must provide. Instructions will be provided for each section, and the specifics of the implementation are marked in the code block with a 'TODO' statement. Please be sure to read the instructions carefully! \n",
    "\n",
    "> **Note**: Once you have completed all of the code implementations, you need to finalize your work by exporting the iPython Notebook as an HTML document. Before exporting the notebook to html, all of the code cells need to have been run so that reviewers can see the final implementation and output. You can then export the notebook by using the menu above and navigating to  \\n\",\n",
    "    \"**File -> Download as -> HTML (.html)**. Include the finished document along with this notebook as your submission.\n",
    "\n",
    "In addition to implementing code, there will be questions that you must answer which relate to the project and your implementation. Each section where you will answer a question is preceded by a **'Question X'** header. Carefully read each question and provide thorough answers in the following text boxes that begin with **'Answer:'**. Your project submission will be evaluated based on your answers to each of the questions and the implementation you provide.\n",
    "\n",
    ">**Note:** Code and Markdown cells can be executed using the **Shift + Enter** keyboard shortcut.  Markdown cells can be edited by double-clicking the cell to enter edit mode.\n",
    "\n",
    "The rubric contains _optional_ \"Stand Out Suggestions\" for enhancing the project beyond the minimum requirements. If you decide to pursue the \"Stand Out Suggestions\", you should include the code in this IPython notebook.\n",
    "\n",
    "\n",
    "\n",
    "---\n",
    "### Why We're Here \n",
    "\n",
    "In this notebook, you will make the first steps towards developing an algorithm that could be used as part of a mobile or web app.  At the end of this project, your code will accept any user-supplied image as input.  If a dog is detected in the image, it will provide an estimate of the dog's breed.  If a human is detected, it will provide an estimate of the dog breed that is most resembling.  The image below displays potential sample output of your finished project (... but we expect that each student's algorithm will behave differently!). \n",
    "\n",
    "![Sample Dog Output](images/sample_dog_output.png)\n",
    "\n",
    "In this real-world setting, you will need to piece together a series of models to perform different tasks; for instance, the algorithm that detects humans in an image will be different from the CNN that infers dog breed.  There are many points of possible failure, and no perfect algorithm exists.  Your imperfect solution will nonetheless create a fun user experience!\n",
    "\n",
    "### The Road Ahead\n",
    "\n",
    "We break the notebook into separate steps.  Feel free to use the links below to navigate the notebook.\n",
    "\n",
    "* [Step 0](#step0): Import Datasets\n",
    "* [Step 1](#step1): Detect Humans\n",
    "* [Step 2](#step2): Detect Dogs\n",
    "* [Step 3](#step3): Create a CNN to Classify Dog Breeds (from Scratch)\n",
    "* [Step 4](#step4): Use a CNN to Classify Dog Breeds (using Transfer Learning)\n",
    "* [Step 5](#step5): Create a CNN to Classify Dog Breeds (using Transfer Learning)\n",
    "* [Step 6](#step6): Write your Algorithm\n",
    "* [Step 7](#step7): Test Your Algorithm\n",
    "\n",
    "---\n",
    "<a id='step0'></a>\n",
    "## Step 0: Import Datasets\n",
    "\n",
    "### Import Dog Dataset\n",
    "\n",
    "In the code cell below, we import a dataset of dog images.  We populate a few variables through the use of the `load_files` function from the scikit-learn library:\n",
    "- `train_files`, `valid_files`, `test_files` - numpy arrays containing file paths to images\n",
    "- `train_targets`, `valid_targets`, `test_targets` - numpy arrays containing onehot-encoded classification labels \n",
    "- `dog_names` - list of string-valued dog breed names for translating labels"
   ]
  },
  {
   "cell_type": "code",
   "execution_count": 1,
   "metadata": {},
   "outputs": [
    {
     "name": "stderr",
     "output_type": "stream",
     "text": [
      "/home/sovereign/anaconda/envs/py36/lib/python3.6/site-packages/h5py/__init__.py:36: FutureWarning: Conversion of the second argument of issubdtype from `float` to `np.floating` is deprecated. In future, it will be treated as `np.float64 == np.dtype(float).type`.\n",
      "  from ._conv import register_converters as _register_converters\n",
      "Using TensorFlow backend.\n"
     ]
    },
    {
     "name": "stdout",
     "output_type": "stream",
     "text": [
      "There are 133 total dog categories.\n",
      "There are 2504 total dog images.\n",
      "\n",
      "There are 2004 training dog images.\n",
      "There are 250 validation dog images.\n",
      "There are 250 test dog images.\n"
     ]
    }
   ],
   "source": [
    "from sklearn.datasets import load_files       \n",
    "from keras.utils import np_utils\n",
    "import numpy as np\n",
    "from glob import glob\n",
    "import pathlib\n",
    "\n",
    "percent = 0.3 # The percentage of data that can be loaded into memory \n",
    "\n",
    "cur_dir = pathlib.Path(\".\").parent.absolute()\n",
    "\n",
    "# define function to load train, test, and validation datasets\n",
    "def load_dataset(path):\n",
    "    data = load_files(path)\n",
    "    dog_files = np.array(data['filenames'])\n",
    "    dog_targets = np_utils.to_categorical(np.array(data['target']), 133)\n",
    "    return dog_files, dog_targets\n",
    "\n",
    "# load train, test, and validation datasets\n",
    "train_files, train_targets = load_dataset('dogImages/train')\n",
    "valid_files, valid_targets = load_dataset('dogImages/valid')\n",
    "test_files, test_targets = load_dataset('dogImages/test')\n",
    "\n",
    "# Read in a subset of the images\n",
    "train_files = train_files[0:int(percent*len(train_files))]\n",
    "train_targets = train_targets[0:int(percent*len(train_targets))]\n",
    "valid_files = valid_files[0:int(percent*len(valid_files))]\n",
    "valid_targets = valid_targets[0:int(percent*len(valid_targets))]\n",
    "test_files = test_files[0:int(percent*len(test_files))]\n",
    "test_targets = test_targets[0:int(percent*len(test_targets))]\n",
    "\n",
    "# load list of dog names\n",
    "dog_names = [item[20:-1] for item in sorted(glob(\"dogImages/train/*/\"))]\n",
    "\n",
    "# print statistics about the dataset\n",
    "print('There are %d total dog categories.' % len(dog_names))\n",
    "print('There are %d total dog images.\\n' % len(np.hstack([train_files, valid_files, test_files])))\n",
    "print('There are %d training dog images.' % len(train_files))\n",
    "print('There are %d validation dog images.' % len(valid_files))\n",
    "print('There are %d test dog images.'% len(test_files))"
   ]
  },
  {
   "cell_type": "markdown",
   "metadata": {},
   "source": [
    "### Import Human Dataset\n",
    "\n",
    "In the code cell below, we import a dataset of human images, where the file paths are stored in the numpy array `human_files`."
   ]
  },
  {
   "cell_type": "code",
   "execution_count": 2,
   "metadata": {},
   "outputs": [
    {
     "name": "stdout",
     "output_type": "stream",
     "text": [
      "There are 13233 total human images.\n"
     ]
    }
   ],
   "source": [
    "import random\n",
    "\n",
    "random.seed(8675309)\n",
    "\n",
    "# load filenames in shuffled human dataset\n",
    "human_files = np.array(glob(\"lfw/*/*\"))\n",
    "random.shuffle(human_files)\n",
    "\n",
    "# print statistics about the dataset\n",
    "print('There are %d total human images.' % len(human_files))"
   ]
  },
  {
   "cell_type": "markdown",
   "metadata": {},
   "source": [
    "---\n",
    "<a id='step1'></a>\n",
    "## Step 1: Detect Humans\n",
    "\n",
    "We use OpenCV's implementation of [Haar feature-based cascade classifiers](http://docs.opencv.org/trunk/d7/d8b/tutorial_py_face_detection.html) to detect human faces in images.  OpenCV provides many pre-trained face detectors, stored as XML files on [github](https://github.com/opencv/opencv/tree/master/data/haarcascades).  We have downloaded one of these detectors and stored it in the `haarcascades` directory.\n",
    "\n",
    "In the next code cell, we demonstrate how to use this detector to find human faces in a sample image."
   ]
  },
  {
   "cell_type": "code",
   "execution_count": 3,
   "metadata": {},
   "outputs": [
    {
     "name": "stdout",
     "output_type": "stream",
     "text": [
      "lfw/Donald_Rumsfeld/Donald_Rumsfeld_0022.jpg\n",
      "Number of faces detected: 1\n"
     ]
    },
    {
     "data": {
      "image/png": "[encoded data removed]",
      "text/plain": [
       "<matplotlib.figure.Figure at 0x7f470b839400>"
      ]
     },
     "metadata": {},
     "output_type": "display_data"
    }
   ],
   "source": [
    "import cv2                \n",
    "import matplotlib.pyplot as plt                        \n",
    "%matplotlib inline                               \n",
    "\n",
    "# extract pre-trained face detector\n",
    "face_cascade = cv2.CascadeClassifier('haarcascades/haarcascade_frontalface_alt.xml')\n",
    "\n",
    "print(human_files[2])\n",
    "\n",
    "# load color (BGR) image\n",
    "img = cv2.imread(human_files[2])\n",
    "# convert BGR image to grayscale\n",
    "gray = cv2.cvtColor(img, cv2.COLOR_BGR2GRAY)\n",
    "\n",
    "# find faces in image\n",
    "faces = face_cascade.detectMultiScale(gray)\n",
    "\n",
    "# print number of faces detected in the image\n",
    "print('Number of faces detected:', len(faces))\n",
    "\n",
    "# get bounding box for each detected face\n",
    "for (x,y,w,h) in faces:\n",
    "    # add bounding box to color image\n",
    "    cv2.rectangle(img,(x,y),(x+w,y+h),(255,0,0),2)\n",
    "    \n",
    "# convert BGR image to RGB for plotting\n",
    "cv_rgb = cv2.cvtColor(img, cv2.COLOR_BGR2RGB)\n",
    "\n",
    "# display the image, along with bounding box\n",
    "plt.imshow(cv_rgb)\n",
    "plt.show()"
   ]
  },
  {
   "cell_type": "markdown",
   "metadata": {},
   "source": [
    "Before using any of the face detectors, it is standard procedure to convert the images to grayscale.  The `detectMultiScale` function executes the classifier stored in `face_cascade` and takes the grayscale image as a parameter.  \n",
    "\n",
    "In the above code, `faces` is a numpy array of detected faces, where each row corresponds to a detected face.  Each detected face is a 1D array with four entries that specifies the bounding box of the detected face.  The first two entries in the array (extracted in the above code as `x` and `y`) specify the horizontal and vertical positions of the top left corner of the bounding box.  The last two entries in the array (extracted here as `w` and `h`) specify the width and height of the box.\n",
    "\n",
    "### Write a Human Face Detector\n",
    "\n",
    "We can use this procedure to write a function that returns `True` if a human face is detected in an image and `False` otherwise.  This function, aptly named `face_detector`, takes a string-valued file path to an image as input and appears in the code block below."
   ]
  },
  {
   "cell_type": "code",
   "execution_count": 4,
   "metadata": {
    "collapsed": true
   },
   "outputs": [],
   "source": [
    "# returns \"True\" if face is detected in image stored at img_path\n",
    "def face_detector(img_path):\n",
    "    img = cv2.imread(img_path)\n",
    "    gray = cv2.cvtColor(img, cv2.COLOR_BGR2GRAY)\n",
    "    faces = face_cascade.detectMultiScale(gray)\n",
    "    return len(faces) > 0"
   ]
  },
  {
   "cell_type": "markdown",
   "metadata": {},
   "source": [
    "### (IMPLEMENTATION) Assess the Human Face Detector\n",
    "\n",
    "__Question 1:__ Use the code cell below to test the performance of the `face_detector` function.  \n",
    "- What percentage of the first 100 images in `human_files` have a detected human face?  \n",
    "- What percentage of the first 100 images in `dog_files` have a detected human face? \n",
    "\n",
    "Ideally, we would like 100% of human images with a detected face and 0% of dog images with a detected face.  You will see that our algorithm falls short of this goal, but still gives acceptable performance.  We extract the file paths for the first 100 images from each of the datasets and store them in the numpy arrays `human_files_short` and `dog_files_short`.\n",
    "\n",
    "__Answer:__ "
   ]
  },
  {
   "cell_type": "code",
   "execution_count": 5,
   "metadata": {},
   "outputs": [
    {
     "name": "stdout",
     "output_type": "stream",
     "text": [
      "The Percentage of Detected human faces in the first 100 Dog Images:  12.0\n",
      "The Percentage of Detected human faces in the first 100 human Images:  99.0\n"
     ]
    }
   ],
   "source": [
    "human_files_short = human_files[:100]\n",
    "dog_files_short = train_files[:100]\n",
    "# Do NOT modify the code above this line.\n",
    "\n",
    "## TODO: Test the performance of the face_detector algorithm \n",
    "## on the images in human_files_short and dog_files_short.\n",
    "detected_human_faces = 0\n",
    "detected_dog_faces = 0\n",
    "\n",
    "for i in range(len(human_files_short)):\n",
    "    detected_human_faces +=int(face_detector(human_files_short[i]))\n",
    "    detected_dog_faces += int(face_detector(dog_files_short[i]))\n",
    "    \n",
    "print(\"The Percentage of Detected human faces in the first 100 Dog Images: \", 100*(detected_dog_faces/len(dog_files_short)))\n",
    "print(\"The Percentage of Detected human faces in the first 100 human Images: \", 100*(detected_human_faces/len(human_files_short)))"
   ]
  },
  {
   "cell_type": "markdown",
   "metadata": {},
   "source": [
    "__Question 2:__ This algorithmic choice necessitates that we communicate to the user that we accept human images only when they provide a clear view of a face (otherwise, we risk having unneccessarily frustrated users!). In your opinion, is this a reasonable expectation to pose on the user? If not, can you think of a way to detect humans in images that does not necessitate an image with a clearly presented face?\n",
    "\n",
    "__Answer:__\n",
    "\n",
    "Yes I do think it is reasonable to expect this on our users. The human face detector will fail if it cannot find a face to begin with. One possibility to help mitigate this problem is to use a neural network that is trained to detect whether an image has a visible face or not. If it detects that there is not, it could alert the user to tell them that it will require another image with a clearly visible face.\n",
    "\n",
    "We suggest the face detector from OpenCV as a potential way to detect human images in your algorithm, but you are free to explore other approaches, especially approaches that make use of deep learning :).  Please use the code cell below to design and test your own face detection algorithm.  If you decide to pursue this _optional_ task, report performance on each of the datasets."
   ]
  },
  {
   "cell_type": "code",
   "execution_count": 6,
   "metadata": {
    "collapsed": true
   },
   "outputs": [],
   "source": [
    "## (Optional) TODO: Report the performance of another  \n",
    "## face detection algorithm on the LFW dataset\n",
    "### Feel free to use as many code cells as needed."
   ]
  },
  {
   "cell_type": "markdown",
   "metadata": {},
   "source": [
    "---\n",
    "<a id='step2'></a>\n",
    "## Step 2: Detect Dogs\n",
    "\n",
    "In this section, we use a pre-trained [ResNet-50](http://ethereon.github.io/netscope/#/gist/db945b393d40bfa26006) model to detect dogs in images.  Our first line of code downloads the ResNet-50 model, along with weights that have been trained on [ImageNet](http://www.image-net.org/), a very large, very popular dataset used for image classification and other vision tasks.  ImageNet contains over 10 million URLs, each linking to an image containing an object from one of [1000 categories](https://gist.github.com/yrevar/942d3a0ac09ec9e5eb3a).  Given an image, this pre-trained ResNet-50 model returns a prediction (derived from the available categories in ImageNet) for the object that is contained in the image."
   ]
  },
  {
   "cell_type": "code",
   "execution_count": 7,
   "metadata": {
    "collapsed": true
   },
   "outputs": [],
   "source": [
    "from keras.applications.resnet50 import ResNet50\n",
    "\n",
    "# define ResNet50 model\n",
    "ResNet50_model = ResNet50(weights='imagenet')"
   ]
  },
  {
   "cell_type": "markdown",
   "metadata": {},
   "source": [
    "### Pre-process the Data\n",
    "\n",
    "When using TensorFlow as backend, Keras CNNs require a 4D array (which we'll also refer to as a 4D tensor) as input, with shape\n",
    "\n",
    "$$\n",
    "(\\text{nb_samples}, \\text{rows}, \\text{columns}, \\text{channels}),\n",
    "$$\n",
    "\n",
    "where `nb_samples` corresponds to the total number of images (or samples), and `rows`, `columns`, and `channels` correspond to the number of rows, columns, and channels for each image, respectively.  \n",
    "\n",
    "The `path_to_tensor` function below takes a string-valued file path to a color image as input and returns a 4D tensor suitable for supplying to a Keras CNN.  The function first loads the image and resizes it to a square image that is $224 \\times 224$ pixels.  Next, the image is converted to an array, which is then resized to a 4D tensor.  In this case, since we are working with color images, each image has three channels.  Likewise, since we are processing a single image (or sample), the returned tensor will always have shape\n",
    "\n",
    "$$\n",
    "(1, 224, 224, 3).\n",
    "$$\n",
    "\n",
    "The `paths_to_tensor` function takes a numpy array of string-valued image paths as input and returns a 4D tensor with shape \n",
    "\n",
    "$$\n",
    "(\\text{nb_samples}, 224, 224, 3).\n",
    "$$\n",
    "\n",
    "Here, `nb_samples` is the number of samples, or number of images, in the supplied array of image paths.  It is best to think of `nb_samples` as the number of 3D tensors (where each 3D tensor corresponds to a different image) in your dataset!"
   ]
  },
  {
   "cell_type": "code",
   "execution_count": 8,
   "metadata": {
    "collapsed": true
   },
   "outputs": [],
   "source": [
    "from keras.preprocessing import image                  \n",
    "from tqdm import tqdm\n",
    "\n",
    "def path_to_tensor(img_path):\n",
    "    # loads RGB image as PIL.Image.Image type\n",
    "    img = image.load_img(img_path, target_size=(224, 224))\n",
    "    # convert PIL.Image.Image type to 3D tensor with shape (224, 224, 3)\n",
    "    x = image.img_to_array(img)\n",
    "    # convert 3D tensor to 4D tensor with shape (1, 224, 224, 3) and return 4D tensor\n",
    "    return np.expand_dims(x, axis=0)\n",
    "\n",
    "def paths_to_tensor(img_paths):\n",
    "    list_of_tensors = [path_to_tensor(img_path) for img_path in tqdm(img_paths)]\n",
    "    return np.vstack(list_of_tensors)"
   ]
  },
  {
   "cell_type": "markdown",
   "metadata": {},
   "source": [
    "### Making Predictions with ResNet-50\n",
    "\n",
    "Getting the 4D tensor ready for ResNet-50, and for any other pre-trained model in Keras, requires some additional processing.  First, the RGB image is converted to BGR by reordering the channels.  All pre-trained models have the additional normalization step that the mean pixel (expressed in RGB as $[103.939, 116.779, 123.68]$ and calculated from all pixels in all images in ImageNet) must be subtracted from every pixel in each image.  This is implemented in the imported function `preprocess_input`.  If you're curious, you can check the code for `preprocess_input` [here](https://github.com/fchollet/keras/blob/master/keras/applications/imagenet_utils.py).\n",
    "\n",
    "Now that we have a way to format our image for supplying to ResNet-50, we are now ready to use the model to extract the predictions.  This is accomplished with the `predict` method, which returns an array whose $i$-th entry is the model's predicted probability that the image belongs to the $i$-th ImageNet category.  This is implemented in the `ResNet50_predict_labels` function below.\n",
    "\n",
    "By taking the argmax of the predicted probability vector, we obtain an integer corresponding to the model's predicted object class, which we can identify with an object category through the use of this [dictionary](https://gist.github.com/yrevar/942d3a0ac09ec9e5eb3a). "
   ]
  },
  {
   "cell_type": "code",
   "execution_count": 9,
   "metadata": {
    "collapsed": true
   },
   "outputs": [],
   "source": [
    "from keras.applications.resnet50 import preprocess_input, decode_predictions\n",
    "\n",
    "def ResNet50_predict_labels(img_path):\n",
    "    # returns prediction vector for image located at img_path\n",
    "    img = preprocess_input(path_to_tensor(img_path))\n",
    "    return np.argmax(ResNet50_model.predict(img))"
   ]
  },
  {
   "cell_type": "markdown",
   "metadata": {},
   "source": [
    "### Write a Dog Detector\n",
    "\n",
    "While looking at the [dictionary](https://gist.github.com/yrevar/942d3a0ac09ec9e5eb3a), you will notice that the categories corresponding to dogs appear in an uninterrupted sequence and correspond to dictionary keys 151-268, inclusive, to include all categories from `'Chihuahua'` to `'Mexican hairless'`.  Thus, in order to check to see if an image is predicted to contain a dog by the pre-trained ResNet-50 model, we need only check if the `ResNet50_predict_labels` function above returns a value between 151 and 268 (inclusive).\n",
    "\n",
    "We use these ideas to complete the `dog_detector` function below, which returns `True` if a dog is detected in an image (and `False` if not)."
   ]
  },
  {
   "cell_type": "code",
   "execution_count": 10,
   "metadata": {
    "collapsed": true
   },
   "outputs": [],
   "source": [
    "### returns \"True\" if a dog is detected in the image stored at img_path\n",
    "def dog_detector(img_path):\n",
    "    prediction = ResNet50_predict_labels(img_path)\n",
    "    return ((prediction <= 268) & (prediction >= 151)) "
   ]
  },
  {
   "cell_type": "markdown",
   "metadata": {},
   "source": [
    "### (IMPLEMENTATION) Assess the Dog Detector\n",
    "\n",
    "__Question 3:__ Use the code cell below to test the performance of your `dog_detector` function.  \n",
    "- What percentage of the images in `human_files_short` have a detected dog?  \n",
    "- What percentage of the images in `dog_files_short` have a detected dog?\n",
    "\n",
    "__Answer:__ "
   ]
  },
  {
   "cell_type": "code",
   "execution_count": 11,
   "metadata": {},
   "outputs": [
    {
     "name": "stdout",
     "output_type": "stream",
     "text": [
      "The Percentage of Detected dogs in the first 100 Dog Images:  100.0\n",
      "The Percentage of Detected dogs in the first 100 human Images:  2.0\n"
     ]
    }
   ],
   "source": [
    "### TODO: Test the performance of the dog_detector function\n",
    "### on the images in human_files_short and dog_files_short.\n",
    "\n",
    "## TODO: Test the performance of the face_detector algorithm \n",
    "## on the images in human_files_short and dog_files_short.\n",
    "detected_human = 0\n",
    "detected_dogs = 0\n",
    "\n",
    "for i in range(len(human_files_short)):\n",
    "    detected_human +=int(dog_detector(human_files_short[i]))\n",
    "    detected_dogs += int(dog_detector(dog_files_short[i]))\n",
    "    \n",
    "print(\"The Percentage of Detected dogs in the first 100 Dog Images: \", 100*(detected_dogs/len(dog_files_short)))\n",
    "print(\"The Percentage of Detected dogs in the first 100 human Images: \", 100*(detected_human/len(human_files_short)))"
   ]
  },
  {
   "cell_type": "markdown",
   "metadata": {},
   "source": [
    "---\n",
    "<a id='step3'></a>\n",
    "## Step 3: Create a CNN to Classify Dog Breeds (from Scratch)\n",
    "\n",
    "Now that we have functions for detecting humans and dogs in images, we need a way to predict breed from images.  In this step, you will create a CNN that classifies dog breeds.  You must create your CNN _from scratch_ (so, you can't use transfer learning _yet_!), and you must attain a test accuracy of at least 1%.  In Step 5 of this notebook, you will have the opportunity to use transfer learning to create a CNN that attains greatly improved accuracy.\n",
    "\n",
    "Be careful with adding too many trainable layers!  More parameters means longer training, which means you are more likely to need a GPU to accelerate the training process.  Thankfully, Keras provides a handy estimate of the time that each epoch is likely to take; you can extrapolate this estimate to figure out how long it will take for your algorithm to train. \n",
    "\n",
    "We mention that the task of assigning breed to dogs from images is considered exceptionally challenging.  To see why, consider that *even a human* would have great difficulty in distinguishing between a Brittany and a Welsh Springer Spaniel.  \n",
    "\n",
    "Brittany | Welsh Springer Spaniel\n",
    "- | - \n",
    "<img src=\"images/Brittany_02625.jpg\" width=\"100\"> | <img src=\"images/Welsh_springer_spaniel_08203.jpg\" width=\"200\">\n",
    "\n",
    "It is not difficult to find other dog breed pairs with minimal inter-class variation (for instance, Curly-Coated Retrievers and American Water Spaniels).  \n",
    "\n",
    "Curly-Coated Retriever | American Water Spaniel\n",
    "- | -\n",
    "<img src=\"images/Curly-coated_retriever_03896.jpg\" width=\"200\"> | <img src=\"images/American_water_spaniel_00648.jpg\" width=\"200\">\n",
    "\n",
    "\n",
    "Likewise, recall that labradors come in yellow, chocolate, and black.  Your vision-based algorithm will have to conquer this high intra-class variation to determine how to classify all of these different shades as the same breed.  \n",
    "\n",
    "Yellow Labrador | Chocolate Labrador | Black Labrador\n",
    "- | -\n",
    "<img src=\"images/Labrador_retriever_06457.jpg\" width=\"150\"> | <img src=\"images/Labrador_retriever_06455.jpg\" width=\"240\"> | <img src=\"images/Labrador_retriever_06449.jpg\" width=\"220\">\n",
    "\n",
    "We also mention that random chance presents an exceptionally low bar: setting aside the fact that the classes are slightly imabalanced, a random guess will provide a correct answer roughly 1 in 133 times, which corresponds to an accuracy of less than 1%.  \n",
    "\n",
    "Remember that the practice is far ahead of the theory in deep learning.  Experiment with many different architectures, and trust your intuition.  And, of course, have fun! \n",
    "\n",
    "### Pre-process the Data\n",
    "\n",
    "We rescale the images by dividing every pixel in every image by 255."
   ]
  },
  {
   "cell_type": "code",
   "execution_count": 12,
   "metadata": {},
   "outputs": [
    {
     "name": "stderr",
     "output_type": "stream",
     "text": [
      "100%|██████████| 2004/2004 [00:38<00:00, 52.42it/s]\n",
      "100%|██████████| 250/250 [00:05<00:00, 49.63it/s]\n",
      "100%|██████████| 250/250 [00:03<00:00, 62.82it/s]\n"
     ]
    }
   ],
   "source": [
    "from PIL import ImageFile                            \n",
    "ImageFile.LOAD_TRUNCATED_IMAGES = True\n",
    "\n",
    "# pre-process the data for Keras\n",
    "train_tensors = paths_to_tensor(train_files).astype('float32')/255\n",
    "valid_tensors = paths_to_tensor(valid_files).astype('float32')/255\n",
    "test_tensors = paths_to_tensor(test_files).astype('float32')/255"
   ]
  },
  {
   "cell_type": "markdown",
   "metadata": {},
   "source": [
    "### (IMPLEMENTATION) Model Architecture\n",
    "\n",
    "Create a CNN to classify dog breed.  At the end of your code cell block, summarize the layers of your model by executing the line:\n",
    "    \n",
    "        model.summary()\n",
    "\n",
    "We have imported some Python modules to get you started, but feel free to import as many modules as you need.  If you end up getting stuck, here's a hint that specifies a model that trains relatively fast on CPU and attains >1% test accuracy in 5 epochs:\n",
    "\n",
    "![Sample CNN](images/sample_cnn.png)\n",
    "           \n",
    "__Question 4:__ Outline the steps you took to get to your final CNN architecture and your reasoning at each step.  If you chose to use the hinted architecture above, describe why you think that CNN architecture should work well for the image classification task.\n",
    "\n",
    "__Answer:__  I used the recommended architecture beacuse it represents the most basic prototype of an CNN for image classification. This recommended CNN structure has convolutional layers followed by pooling layers, where the number of filters doubles in each convolutional layer. The increasing fileter size represents the increasing level of abstraction that the CNN detects, starting from simple edge detection at the start (small number of filters), to faces, cars ect. in the final layer (large number of filters). The pooling layers are used in order to help make the output of the pooling layers invariant and reduce the number of parameters that are needed to train the network. Both of these together make the network a useful starting point to classify images. The relu activation is chosen to avoid the vanishing gradient problem. "
   ]
  },
  {
   "cell_type": "code",
   "execution_count": 13,
   "metadata": {},
   "outputs": [
    {
     "name": "stdout",
     "output_type": "stream",
     "text": [
      "_________________________________________________________________\n",
      "Layer (type)                 Output Shape              Param #   \n",
      "=================================================================\n",
      "conv2d_1 (Conv2D)            (None, 224, 224, 16)      208       \n",
      "_________________________________________________________________\n",
      "max_pooling2d_2 (MaxPooling2 (None, 112, 112, 16)      0         \n",
      "_________________________________________________________________\n",
      "conv2d_2 (Conv2D)            (None, 112, 112, 32)      2080      \n",
      "_________________________________________________________________\n",
      "max_pooling2d_3 (MaxPooling2 (None, 56, 56, 32)        0         \n",
      "_________________________________________________________________\n",
      "conv2d_3 (Conv2D)            (None, 56, 56, 64)        8256      \n",
      "_________________________________________________________________\n",
      "max_pooling2d_4 (MaxPooling2 (None, 28, 28, 64)        0         \n",
      "_________________________________________________________________\n",
      "global_average_pooling2d_1 ( (None, 64)                0         \n",
      "_________________________________________________________________\n",
      "dense_1 (Dense)              (None, 133)               8645      \n",
      "=================================================================\n",
      "Total params: 19,189\n",
      "Trainable params: 19,189\n",
      "Non-trainable params: 0\n",
      "_________________________________________________________________\n"
     ]
    }
   ],
   "source": [
    "from keras.layers import Conv2D, MaxPooling2D, GlobalAveragePooling2D\n",
    "from keras.layers import Dropout, Flatten, Dense\n",
    "from keras.models import Sequential\n",
    "\n",
    "# Here I implement the recommended architecture above\n",
    "model = Sequential()\n",
    "model.add(Conv2D(filters=16,kernel_size=2,padding='same', activation='relu',input_shape=train_tensors.shape[1:]))\n",
    "model.add(MaxPooling2D(pool_size=2))\n",
    "model.add(Conv2D(filters=32,kernel_size=2,padding='same', activation='relu'))\n",
    "model.add(MaxPooling2D(pool_size=2))\n",
    "model.add(Conv2D(filters=64,kernel_size=2,padding='same', activation='relu'))\n",
    "model.add(MaxPooling2D(pool_size=2))\n",
    "model.add(GlobalAveragePooling2D())\n",
    "model.add(Dense(len(dog_names),activation='softmax'))\n",
    "model.summary()"
   ]
  },
  {
   "cell_type": "markdown",
   "metadata": {},
   "source": [
    "### Compile the Model"
   ]
  },
  {
   "cell_type": "code",
   "execution_count": 14,
   "metadata": {
    "collapsed": true
   },
   "outputs": [],
   "source": [
    "model.compile(optimizer='rmsprop', loss='categorical_crossentropy', metrics=['accuracy'])"
   ]
  },
  {
   "cell_type": "markdown",
   "metadata": {},
   "source": [
    "### (IMPLEMENTATION) Train the Model\n",
    "\n",
    "Train your model in the code cell below.  Use model checkpointing to save the model that attains the best validation loss.\n",
    "\n",
    "You are welcome to [augment the training data](https://blog.keras.io/building-powerful-image-classification-models-using-very-little-data.html), but this is not a requirement. "
   ]
  },
  {
   "cell_type": "code",
   "execution_count": 15,
   "metadata": {},
   "outputs": [
    {
     "name": "stdout",
     "output_type": "stream",
     "text": [
      "Train on 2004 samples, validate on 250 samples\n",
      "Epoch 1/12\n",
      "2004/2004 [==============================] - 117s 59ms/step - loss: 4.8907 - acc: 0.0105 - val_loss: 4.8880 - val_acc: 0.0080\n",
      "\n",
      "Epoch 00001: val_loss improved from inf to 4.88803, saving model to saved_models/weights.best.from_scratch.hdf5\n",
      "Epoch 2/12\n",
      "2004/2004 [==============================] - 115s 58ms/step - loss: 4.8713 - acc: 0.0145 - val_loss: 4.8997 - val_acc: 0.0080\n",
      "\n",
      "Epoch 00002: val_loss did not improve from 4.88803\n",
      "Epoch 3/12\n",
      "2004/2004 [==============================] - 116s 58ms/step - loss: 4.8596 - acc: 0.0155 - val_loss: 4.9003 - val_acc: 0.0080\n",
      "\n",
      "Epoch 00003: val_loss did not improve from 4.88803\n",
      "Epoch 4/12\n",
      "2004/2004 [==============================] - 116s 58ms/step - loss: 4.8533 - acc: 0.0155 - val_loss: 4.8970 - val_acc: 0.0080\n",
      "\n",
      "Epoch 00004: val_loss did not improve from 4.88803\n",
      "Epoch 5/12\n",
      "2004/2004 [==============================] - 116s 58ms/step - loss: 4.8460 - acc: 0.0155 - val_loss: 4.8990 - val_acc: 0.0080\n",
      "\n",
      "Epoch 00005: val_loss did not improve from 4.88803\n",
      "Epoch 6/12\n",
      "2004/2004 [==============================] - 116s 58ms/step - loss: 4.8368 - acc: 0.0145 - val_loss: 4.9123 - val_acc: 0.0080\n",
      "\n",
      "Epoch 00006: val_loss did not improve from 4.88803\n",
      "Epoch 7/12\n",
      "2004/2004 [==============================] - 116s 58ms/step - loss: 4.8220 - acc: 0.0165 - val_loss: 4.9038 - val_acc: 0.0080\n",
      "\n",
      "Epoch 00007: val_loss did not improve from 4.88803\n",
      "Epoch 8/12\n",
      "2004/2004 [==============================] - 116s 58ms/step - loss: 4.8008 - acc: 0.0175 - val_loss: 4.8897 - val_acc: 0.0280\n",
      "\n",
      "Epoch 00008: val_loss did not improve from 4.88803\n",
      "Epoch 9/12\n",
      "2004/2004 [==============================] - 116s 58ms/step - loss: 4.7840 - acc: 0.0195 - val_loss: 4.9494 - val_acc: 0.0200\n",
      "\n",
      "Epoch 00009: val_loss did not improve from 4.88803\n",
      "Epoch 10/12\n",
      "2004/2004 [==============================] - 116s 58ms/step - loss: 4.7611 - acc: 0.0195 - val_loss: 4.8921 - val_acc: 0.0200\n",
      "\n",
      "Epoch 00010: val_loss did not improve from 4.88803\n",
      "Epoch 11/12\n",
      "2004/2004 [==============================] - 116s 58ms/step - loss: 4.7432 - acc: 0.0230 - val_loss: 4.8888 - val_acc: 0.0240\n",
      "\n",
      "Epoch 00011: val_loss did not improve from 4.88803\n",
      "Epoch 12/12\n",
      "2004/2004 [==============================] - 116s 58ms/step - loss: 4.7244 - acc: 0.0274 - val_loss: 4.8915 - val_acc: 0.0240\n",
      "\n",
      "Epoch 00012: val_loss did not improve from 4.88803\n"
     ]
    },
    {
     "data": {
      "text/plain": [
       "<keras.callbacks.History at 0x7f4645ef8828>"
      ]
     },
     "execution_count": 15,
     "metadata": {},
     "output_type": "execute_result"
    }
   ],
   "source": [
    "from keras.callbacks import ModelCheckpoint  \n",
    "\n",
    "### TODO: specify the number of epochs that you would like to use to train the model.\n",
    "\n",
    "epochs = 12\n",
    "\n",
    "### Do NOT modify the code below this line.\n",
    "\n",
    "checkpointer = ModelCheckpoint(filepath='saved_models/weights.best.from_scratch.hdf5', \n",
    "                               verbose=1, save_best_only=True)\n",
    "\n",
    "model.fit(train_tensors, train_targets, \n",
    "          validation_data=(valid_tensors, valid_targets),\n",
    "          epochs=epochs, batch_size=20, callbacks=[checkpointer], verbose=1)"
   ]
  },
  {
   "cell_type": "markdown",
   "metadata": {},
   "source": [
    "### Load the Model with the Best Validation Loss"
   ]
  },
  {
   "cell_type": "code",
   "execution_count": 16,
   "metadata": {
    "collapsed": true
   },
   "outputs": [],
   "source": [
    "model.load_weights('saved_models/weights.best.from_scratch.hdf5')"
   ]
  },
  {
   "cell_type": "markdown",
   "metadata": {},
   "source": [
    "### Test the Model\n",
    "\n",
    "Try out your model on the test dataset of dog images.  Ensure that your test accuracy is greater than 1%."
   ]
  },
  {
   "cell_type": "code",
   "execution_count": 17,
   "metadata": {},
   "outputs": [
    {
     "name": "stdout",
     "output_type": "stream",
     "text": [
      "Test accuracy: 0.4000%\n"
     ]
    }
   ],
   "source": [
    "# get index of predicted dog breed for each image in test set\n",
    "dog_breed_predictions = [np.argmax(model.predict(np.expand_dims(tensor, axis=0))) for tensor in test_tensors]\n",
    "\n",
    "# report test accuracy\n",
    "test_accuracy = 100*np.sum(np.array(dog_breed_predictions)==np.argmax(test_targets, axis=1))/len(dog_breed_predictions)\n",
    "print('Test accuracy: %.4f%%' % test_accuracy)"
   ]
  },
  {
   "cell_type": "markdown",
   "metadata": {},
   "source": [
    "---\n",
    "<a id='step4'></a>\n",
    "## Step 4: Use a CNN to Classify Dog Breeds\n",
    "\n",
    "To reduce training time without sacrificing accuracy, we show you how to train a CNN using transfer learning.  In the following step, you will get a chance to use transfer learning to train your own CNN.\n",
    "\n",
    "### Obtain Bottleneck Features"
   ]
  },
  {
   "cell_type": "code",
   "execution_count": 18,
   "metadata": {
    "collapsed": true
   },
   "outputs": [],
   "source": [
    "bottleneck_features = np.load('bottleneck_features/DogVGG16Data.npz')\n",
    "train_VGG16 = bottleneck_features['train']\n",
    "valid_VGG16 = bottleneck_features['valid']\n",
    "test_VGG16 = bottleneck_features['test']\n",
    "\n",
    "\n",
    "# Decrease amount of data for memory management \n",
    "train_VGG16 = train_VGG16[0:int(percent*len(train_VGG16))]\n",
    "valid_VGG16 = valid_VGG16[0:int(percent*len(valid_VGG16))]\n",
    "test_VGG16 = test_VGG16[0:int(percent*len(test_VGG16))]"
   ]
  },
  {
   "cell_type": "markdown",
   "metadata": {},
   "source": [
    "### Model Architecture\n",
    "\n",
    "The model uses the the pre-trained VGG-16 model as a fixed feature extractor, where the last convolutional output of VGG-16 is fed as input to our model.  We only add a global average pooling layer and a fully connected layer, where the latter contains one node for each dog category and is equipped with a softmax."
   ]
  },
  {
   "cell_type": "code",
   "execution_count": 19,
   "metadata": {},
   "outputs": [
    {
     "name": "stdout",
     "output_type": "stream",
     "text": [
      "_________________________________________________________________\n",
      "Layer (type)                 Output Shape              Param #   \n",
      "=================================================================\n",
      "global_average_pooling2d_2 ( (None, 512)               0         \n",
      "_________________________________________________________________\n",
      "dense_2 (Dense)              (None, 133)               68229     \n",
      "=================================================================\n",
      "Total params: 68,229\n",
      "Trainable params: 68,229\n",
      "Non-trainable params: 0\n",
      "_________________________________________________________________\n"
     ]
    }
   ],
   "source": [
    "VGG16_model = Sequential()\n",
    "VGG16_model.add(GlobalAveragePooling2D(input_shape=train_VGG16.shape[1:]))\n",
    "VGG16_model.add(Dense(133, activation='softmax'))\n",
    "\n",
    "VGG16_model.summary()"
   ]
  },
  {
   "cell_type": "markdown",
   "metadata": {},
   "source": [
    "### Compile the Model"
   ]
  },
  {
   "cell_type": "code",
   "execution_count": 20,
   "metadata": {
    "collapsed": true
   },
   "outputs": [],
   "source": [
    "VGG16_model.compile(loss='categorical_crossentropy', optimizer='rmsprop', metrics=['accuracy'])"
   ]
  },
  {
   "cell_type": "markdown",
   "metadata": {},
   "source": [
    "### Train the Model"
   ]
  },
  {
   "cell_type": "code",
   "execution_count": 21,
   "metadata": {},
   "outputs": [
    {
     "name": "stdout",
     "output_type": "stream",
     "text": [
      "Train on 2004 samples, validate on 250 samples\n",
      "Epoch 1/20\n",
      "2004/2004 [==============================] - 2s 1ms/step - loss: 14.0519 - acc: 0.0439 - val_loss: 12.7686 - val_acc: 0.0760\n",
      "\n",
      "Epoch 00001: val_loss improved from inf to 12.76857, saving model to saved_models/weights.best.VGG16.hdf5\n",
      "Epoch 2/20\n",
      "2004/2004 [==============================] - 1s 494us/step - loss: 11.6959 - acc: 0.1402 - val_loss: 11.2642 - val_acc: 0.1480\n",
      "\n",
      "Epoch 00002: val_loss improved from 12.76857 to 11.26423, saving model to saved_models/weights.best.VGG16.hdf5\n",
      "Epoch 3/20\n",
      "2004/2004 [==============================] - 1s 501us/step - loss: 10.2427 - acc: 0.2520 - val_loss: 10.5369 - val_acc: 0.2080\n",
      "\n",
      "Epoch 00003: val_loss improved from 11.26423 to 10.53693, saving model to saved_models/weights.best.VGG16.hdf5\n",
      "Epoch 4/20\n",
      "2004/2004 [==============================] - 1s 511us/step - loss: 9.4402 - acc: 0.3214 - val_loss: 10.2291 - val_acc: 0.2360\n",
      "\n",
      "Epoch 00004: val_loss improved from 10.53693 to 10.22913, saving model to saved_models/weights.best.VGG16.hdf5\n",
      "Epoch 5/20\n",
      "2004/2004 [==============================] - 1s 503us/step - loss: 8.9940 - acc: 0.3757 - val_loss: 10.0325 - val_acc: 0.2520\n",
      "\n",
      "Epoch 00005: val_loss improved from 10.22913 to 10.03255, saving model to saved_models/weights.best.VGG16.hdf5\n",
      "Epoch 6/20\n",
      "2004/2004 [==============================] - 1s 511us/step - loss: 8.7672 - acc: 0.4192 - val_loss: 10.0013 - val_acc: 0.2720\n",
      "\n",
      "Epoch 00006: val_loss improved from 10.03255 to 10.00126, saving model to saved_models/weights.best.VGG16.hdf5\n",
      "Epoch 7/20\n",
      "2004/2004 [==============================] - 1s 500us/step - loss: 8.6753 - acc: 0.4391 - val_loss: 9.8565 - val_acc: 0.2960\n",
      "\n",
      "Epoch 00007: val_loss improved from 10.00126 to 9.85652, saving model to saved_models/weights.best.VGG16.hdf5\n",
      "Epoch 8/20\n",
      "2004/2004 [==============================] - 1s 502us/step - loss: 8.6058 - acc: 0.4496 - val_loss: 9.9025 - val_acc: 0.2880\n",
      "\n",
      "Epoch 00008: val_loss did not improve from 9.85652\n",
      "Epoch 9/20\n",
      "2004/2004 [==============================] - 1s 515us/step - loss: 8.5510 - acc: 0.4591 - val_loss: 9.9521 - val_acc: 0.2920\n",
      "\n",
      "Epoch 00009: val_loss did not improve from 9.85652\n",
      "Epoch 10/20\n",
      "2004/2004 [==============================] - 1s 502us/step - loss: 8.5145 - acc: 0.4646 - val_loss: 9.9026 - val_acc: 0.2920\n",
      "\n",
      "Epoch 00010: val_loss did not improve from 9.85652\n",
      "Epoch 11/20\n",
      "2004/2004 [==============================] - 1s 497us/step - loss: 8.2733 - acc: 0.4631 - val_loss: 9.7656 - val_acc: 0.3080\n",
      "\n",
      "Epoch 00011: val_loss improved from 9.85652 to 9.76562, saving model to saved_models/weights.best.VGG16.hdf5\n",
      "Epoch 12/20\n",
      "2004/2004 [==============================] - 1s 503us/step - loss: 8.0225 - acc: 0.4770 - val_loss: 9.6690 - val_acc: 0.3000\n",
      "\n",
      "Epoch 00012: val_loss improved from 9.76562 to 9.66901, saving model to saved_models/weights.best.VGG16.hdf5\n",
      "Epoch 13/20\n",
      "2004/2004 [==============================] - 1s 524us/step - loss: 7.8960 - acc: 0.4990 - val_loss: 9.5089 - val_acc: 0.3280\n",
      "\n",
      "Epoch 00013: val_loss improved from 9.66901 to 9.50894, saving model to saved_models/weights.best.VGG16.hdf5\n",
      "Epoch 14/20\n",
      "2004/2004 [==============================] - 1s 545us/step - loss: 7.8548 - acc: 0.5070 - val_loss: 9.5996 - val_acc: 0.3280\n",
      "\n",
      "Epoch 00014: val_loss did not improve from 9.50894\n",
      "Epoch 15/20\n",
      "2004/2004 [==============================] - 1s 500us/step - loss: 7.8450 - acc: 0.5090 - val_loss: 9.3901 - val_acc: 0.3240\n",
      "\n",
      "Epoch 00015: val_loss improved from 9.50894 to 9.39008, saving model to saved_models/weights.best.VGG16.hdf5\n",
      "Epoch 16/20\n",
      "2004/2004 [==============================] - 1s 502us/step - loss: 7.8229 - acc: 0.5135 - val_loss: 9.4224 - val_acc: 0.3200\n",
      "\n",
      "Epoch 00016: val_loss did not improve from 9.39008\n",
      "Epoch 17/20\n",
      "2004/2004 [==============================] - 1s 514us/step - loss: 7.5993 - acc: 0.5070 - val_loss: 9.6143 - val_acc: 0.3000\n",
      "\n",
      "Epoch 00017: val_loss did not improve from 9.39008\n",
      "Epoch 18/20\n",
      "2004/2004 [==============================] - 1s 506us/step - loss: 7.4427 - acc: 0.5259 - val_loss: 9.3234 - val_acc: 0.3360\n",
      "\n",
      "Epoch 00018: val_loss improved from 9.39008 to 9.32336, saving model to saved_models/weights.best.VGG16.hdf5\n",
      "Epoch 19/20\n",
      "2004/2004 [==============================] - 1s 509us/step - loss: 7.3688 - acc: 0.5364 - val_loss: 9.4616 - val_acc: 0.3280\n",
      "\n",
      "Epoch 00019: val_loss did not improve from 9.32336\n",
      "Epoch 20/20\n",
      "2004/2004 [==============================] - 1s 504us/step - loss: 7.2697 - acc: 0.5404 - val_loss: 9.3941 - val_acc: 0.3120\n",
      "\n",
      "Epoch 00020: val_loss did not improve from 9.32336\n"
     ]
    },
    {
     "data": {
      "text/plain": [
       "<keras.callbacks.History at 0x7f45fc7b3da0>"
      ]
     },
     "execution_count": 21,
     "metadata": {},
     "output_type": "execute_result"
    }
   ],
   "source": [
    "checkpointer = ModelCheckpoint(filepath='saved_models/weights.best.VGG16.hdf5', \n",
    "                               verbose=1, save_best_only=True)\n",
    "\n",
    "VGG16_model.fit(train_VGG16, train_targets, \n",
    "          validation_data=(valid_VGG16, valid_targets),\n",
    "          epochs=20, batch_size=20, callbacks=[checkpointer], verbose=1)"
   ]
  },
  {
   "cell_type": "markdown",
   "metadata": {},
   "source": [
    "### Load the Model with the Best Validation Loss"
   ]
  },
  {
   "cell_type": "code",
   "execution_count": 22,
   "metadata": {
    "collapsed": true
   },
   "outputs": [],
   "source": [
    "VGG16_model.load_weights('saved_models/weights.best.VGG16.hdf5')"
   ]
  },
  {
   "cell_type": "markdown",
   "metadata": {},
   "source": [
    "### Test the Model\n",
    "\n",
    "Now, we can use the CNN to test how well it identifies breed within our test dataset of dog images.  We print the test accuracy below."
   ]
  },
  {
   "cell_type": "code",
   "execution_count": 23,
   "metadata": {},
   "outputs": [
    {
     "name": "stdout",
     "output_type": "stream",
     "text": [
      "Test accuracy: 33.6000%\n"
     ]
    }
   ],
   "source": [
    "# get index of predicted dog breed for each image in test set\n",
    "VGG16_predictions = [np.argmax(VGG16_model.predict(np.expand_dims(feature, axis=0))) for feature in test_VGG16]\n",
    "\n",
    "# report test accuracy\n",
    "test_accuracy = 100*np.sum(np.array(VGG16_predictions)==np.argmax(test_targets, axis=1))/len(VGG16_predictions)\n",
    "print('Test accuracy: %.4f%%' % test_accuracy)"
   ]
  },
  {
   "cell_type": "markdown",
   "metadata": {},
   "source": [
    "### Predict Dog Breed with the Model"
   ]
  },
  {
   "cell_type": "code",
   "execution_count": 24,
   "metadata": {
    "collapsed": true
   },
   "outputs": [],
   "source": [
    "from extract_bottleneck_features import *\n",
    "\n",
    "def VGG16_predict_breed(img_path):\n",
    "    # extract bottleneck features\n",
    "    bottleneck_feature = extract_VGG16(path_to_tensor(img_path))\n",
    "    # obtain predicted vector\n",
    "    predicted_vector = VGG16_model.predict(bottleneck_feature)\n",
    "    # return dog breed that is predicted by the model\n",
    "    return dog_names[np.argmax(predicted_vector)]"
   ]
  },
  {
   "cell_type": "markdown",
   "metadata": {},
   "source": [
    "---\n",
    "<a id='step5'></a>\n",
    "## Step 5: Create a CNN to Classify Dog Breeds (using Transfer Learning)\n",
    "\n",
    "You will now use transfer learning to create a CNN that can identify dog breed from images.  Your CNN must attain at least 60% accuracy on the test set.\n",
    "\n",
    "In Step 4, we used transfer learning to create a CNN using VGG-16 bottleneck features.  In this section, you must use the bottleneck features from a different pre-trained model.  To make things easier for you, we have pre-computed the features for all of the networks that are currently available in Keras:\n",
    "- [VGG-19](https://s3-us-west-1.amazonaws.com/udacity-aind/dog-project/DogVGG19Data.npz) bottleneck features\n",
    "- [ResNet-50](https://s3-us-west-1.amazonaws.com/udacity-aind/dog-project/DogResnet50Data.npz) bottleneck features\n",
    "- [Inception](https://s3-us-west-1.amazonaws.com/udacity-aind/dog-project/DogInceptionV3Data.npz) bottleneck features\n",
    "- [Xception](https://s3-us-west-1.amazonaws.com/udacity-aind/dog-project/DogXceptionData.npz) bottleneck features\n",
    "\n",
    "The files are encoded as such:\n",
    "\n",
    "    Dog{network}Data.npz\n",
    "    \n",
    "where `{network}`, in the above filename, can be one of `VGG19`, `Resnet50`, `InceptionV3`, or `Xception`.  Pick one of the above architectures, download the corresponding bottleneck features, and store the downloaded file in the `bottleneck_features/` folder in the repository.\n",
    "\n",
    "### (IMPLEMENTATION) Obtain Bottleneck Features\n",
    "\n",
    "In the code block below, extract the bottleneck features corresponding to the train, test, and validation sets by running the following:\n",
    "\n",
    "    bottleneck_features = np.load('bottleneck_features/Dog{network}Data.npz')\n",
    "    train_{network} = bottleneck_features['train']\n",
    "    valid_{network} = bottleneck_features['valid']\n",
    "    test_{network} = bottleneck_features['test']"
   ]
  },
  {
   "cell_type": "code",
   "execution_count": 25,
   "metadata": {
    "collapsed": true
   },
   "outputs": [],
   "source": [
    "### TODO: Obtain bottleneck features from another pre-trained CNN.\n",
    "bottleneck_features = np.load('bottleneck_features/DogXceptionData.npz')\n",
    "train_Xception = bottleneck_features['train']\n",
    "valid_Xception = bottleneck_features['valid']\n",
    "test_Xception = bottleneck_features['test']\n",
    "\n",
    "# Decrease amount of data for memory management \n",
    "train_Xception= train_Xception[0:int(percent*len(train_Xception))]\n",
    "valid_Xception = valid_Xception[0:int(percent*len(valid_Xception))]\n",
    "test_Xception = test_Xception[0:int(percent*len(test_Xception))]"
   ]
  },
  {
   "cell_type": "markdown",
   "metadata": {},
   "source": [
    "### (IMPLEMENTATION) Model Architecture\n",
    "\n",
    "Create a CNN to classify dog breed.  At the end of your code cell block, summarize the layers of your model by executing the line:\n",
    "    \n",
    "        <your model's name>.summary()\n",
    "   \n",
    "__Question 5:__ Outline the steps you took to get to your final CNN architecture and your reasoning at each step.  Describe why you think the architecture is suitable for the current problem.\n",
    "\n",
    "__Answer:__ \n",
    "The architecture that I chose for this problem is the [Xception model](https://arxiv.org/abs/1610.02357). This model is based on the Inception V3 model, however, it has the same number of parameters and slightly outperforms it. This means that the Xception model uses the model parameters more efficiently than the Inception V3. Now, because the Inception V3 model is performs better than both then VGG-19 and Resnet-50 [Ref.](https://arxiv.org/abs/1605.07678) that the Xception model would be the highest performing and the most state-of-the-art among the other choices. This is why I chose to work with this model.   \n",
    "\n"
   ]
  },
  {
   "cell_type": "code",
   "execution_count": 26,
   "metadata": {},
   "outputs": [
    {
     "name": "stdout",
     "output_type": "stream",
     "text": [
      "_________________________________________________________________\n",
      "Layer (type)                 Output Shape              Param #   \n",
      "=================================================================\n",
      "global_average_pooling2d_3 ( (None, 2048)              0         \n",
      "_________________________________________________________________\n",
      "dense_3 (Dense)              (None, 133)               272517    \n",
      "=================================================================\n",
      "Total params: 272,517\n",
      "Trainable params: 272,517\n",
      "Non-trainable params: 0\n",
      "_________________________________________________________________\n"
     ]
    }
   ],
   "source": [
    "### TODO: Define your architecture.\n",
    "\n",
    "# We build the Xception model like we did for the VGG16 model\n",
    "Xception_model = Sequential()\n",
    "Xception_model.add(GlobalAveragePooling2D(input_shape=train_Xception.shape[1:]))\n",
    "Xception_model.add(Dense(133, activation='softmax'))\n",
    "Xception_model.summary()"
   ]
  },
  {
   "cell_type": "markdown",
   "metadata": {},
   "source": [
    "### (IMPLEMENTATION) Compile the Model"
   ]
  },
  {
   "cell_type": "code",
   "execution_count": 27,
   "metadata": {
    "collapsed": true
   },
   "outputs": [],
   "source": [
    "### TODO: Compile the model.\n",
    "\n",
    "# Compile the model\n",
    "Xception_model.compile(loss='categorical_crossentropy', optimizer='rmsprop', metrics=['accuracy'])"
   ]
  },
  {
   "cell_type": "markdown",
   "metadata": {},
   "source": [
    "### (IMPLEMENTATION) Train the Model\n",
    "\n",
    "Train your model in the code cell below.  Use model checkpointing to save the model that attains the best validation loss.  \n",
    "\n",
    "You are welcome to [augment the training data](https://blog.keras.io/building-powerful-image-classification-models-using-very-little-data.html), but this is not a requirement. "
   ]
  },
  {
   "cell_type": "code",
   "execution_count": 28,
   "metadata": {},
   "outputs": [
    {
     "name": "stdout",
     "output_type": "stream",
     "text": [
      "Train on 2004 samples, validate on 250 samples\n",
      "Epoch 1/20\n",
      "2004/2004 [==============================] - 28s 14ms/step - loss: 2.1123 - acc: 0.5499 - val_loss: 0.8275 - val_acc: 0.7760\n",
      "\n",
      "Epoch 00001: val_loss improved from inf to 0.82748, saving model to saved_models/weights.best.Xception.hdf5\n",
      "Epoch 2/20\n",
      "2004/2004 [==============================] - 3s 1ms/step - loss: 0.4809 - acc: 0.8673 - val_loss: 0.5681 - val_acc: 0.8280\n",
      "\n",
      "Epoch 00002: val_loss improved from 0.82748 to 0.56810, saving model to saved_models/weights.best.Xception.hdf5\n",
      "Epoch 3/20\n",
      "2004/2004 [==============================] - 3s 1ms/step - loss: 0.2938 - acc: 0.9152 - val_loss: 0.5685 - val_acc: 0.8240\n",
      "\n",
      "Epoch 00003: val_loss did not improve from 0.56810\n",
      "Epoch 4/20\n",
      "2004/2004 [==============================] - 3s 1ms/step - loss: 0.2072 - acc: 0.9381 - val_loss: 0.5608 - val_acc: 0.8240\n",
      "\n",
      "Epoch 00004: val_loss improved from 0.56810 to 0.56082, saving model to saved_models/weights.best.Xception.hdf5\n",
      "Epoch 5/20\n",
      "2004/2004 [==============================] - 2s 1ms/step - loss: 0.1533 - acc: 0.9536 - val_loss: 0.5929 - val_acc: 0.8080\n",
      "\n",
      "Epoch 00005: val_loss did not improve from 0.56082\n",
      "Epoch 6/20\n",
      "2004/2004 [==============================] - 2s 1ms/step - loss: 0.1147 - acc: 0.9641 - val_loss: 0.5796 - val_acc: 0.8320\n",
      "\n",
      "Epoch 00006: val_loss did not improve from 0.56082\n",
      "Epoch 7/20\n",
      "2004/2004 [==============================] - 3s 1ms/step - loss: 0.0916 - acc: 0.9731 - val_loss: 0.5949 - val_acc: 0.8440\n",
      "\n",
      "Epoch 00007: val_loss did not improve from 0.56082\n",
      "Epoch 8/20\n",
      "2004/2004 [==============================] - 2s 1ms/step - loss: 0.0715 - acc: 0.9800 - val_loss: 0.6031 - val_acc: 0.8280\n",
      "\n",
      "Epoch 00008: val_loss did not improve from 0.56082\n",
      "Epoch 9/20\n",
      "2004/2004 [==============================] - 2s 1ms/step - loss: 0.0615 - acc: 0.9810 - val_loss: 0.6401 - val_acc: 0.8080\n",
      "\n",
      "Epoch 00009: val_loss did not improve from 0.56082\n",
      "Epoch 10/20\n",
      "2004/2004 [==============================] - 2s 1ms/step - loss: 0.0510 - acc: 0.9855 - val_loss: 0.6839 - val_acc: 0.8280\n",
      "\n",
      "Epoch 00010: val_loss did not improve from 0.56082\n",
      "Epoch 11/20\n",
      "2004/2004 [==============================] - 2s 1ms/step - loss: 0.0422 - acc: 0.9900 - val_loss: 0.6217 - val_acc: 0.8280\n",
      "\n",
      "Epoch 00011: val_loss did not improve from 0.56082\n",
      "Epoch 12/20\n",
      "2004/2004 [==============================] - 3s 1ms/step - loss: 0.0335 - acc: 0.9910 - val_loss: 0.6453 - val_acc: 0.8240\n",
      "\n",
      "Epoch 00012: val_loss did not improve from 0.56082\n",
      "Epoch 13/20\n",
      "2004/2004 [==============================] - 2s 1ms/step - loss: 0.0278 - acc: 0.9915 - val_loss: 0.6509 - val_acc: 0.8280\n",
      "\n",
      "Epoch 00013: val_loss did not improve from 0.56082\n",
      "Epoch 14/20\n",
      "2004/2004 [==============================] - 3s 1ms/step - loss: 0.0233 - acc: 0.9950 - val_loss: 0.6700 - val_acc: 0.8240\n",
      "\n",
      "Epoch 00014: val_loss did not improve from 0.56082\n",
      "Epoch 15/20\n",
      "2004/2004 [==============================] - 3s 1ms/step - loss: 0.0193 - acc: 0.9955 - val_loss: 0.6960 - val_acc: 0.8200\n",
      "\n",
      "Epoch 00015: val_loss did not improve from 0.56082\n",
      "Epoch 16/20\n",
      "2004/2004 [==============================] - 3s 1ms/step - loss: 0.0165 - acc: 0.9955 - val_loss: 0.6727 - val_acc: 0.8280\n",
      "\n",
      "Epoch 00016: val_loss did not improve from 0.56082\n",
      "Epoch 17/20\n",
      "2004/2004 [==============================] - 3s 1ms/step - loss: 0.0156 - acc: 0.9955 - val_loss: 0.7060 - val_acc: 0.8320\n",
      "\n",
      "Epoch 00017: val_loss did not improve from 0.56082\n",
      "Epoch 18/20\n",
      "2004/2004 [==============================] - 3s 1ms/step - loss: 0.0141 - acc: 0.9970 - val_loss: 0.6956 - val_acc: 0.8320\n",
      "\n",
      "Epoch 00018: val_loss did not improve from 0.56082\n",
      "Epoch 19/20\n",
      "2004/2004 [==============================] - 2s 1ms/step - loss: 0.0114 - acc: 0.9975 - val_loss: 0.6841 - val_acc: 0.8440\n",
      "\n",
      "Epoch 00019: val_loss did not improve from 0.56082\n",
      "Epoch 20/20\n",
      "2004/2004 [==============================] - 3s 1ms/step - loss: 0.0092 - acc: 0.9985 - val_loss: 0.7412 - val_acc: 0.8400\n",
      "\n",
      "Epoch 00020: val_loss did not improve from 0.56082\n"
     ]
    },
    {
     "data": {
      "text/plain": [
       "<keras.callbacks.History at 0x7f45fc5c8630>"
      ]
     },
     "execution_count": 28,
     "metadata": {},
     "output_type": "execute_result"
    }
   ],
   "source": [
    "### TODO: Train the model.\n",
    "\n",
    "checkpointer = ModelCheckpoint(filepath='saved_models/weights.best.Xception.hdf5', \n",
    "                               verbose=1, save_best_only=True)\n",
    "\n",
    "Xception_model.fit(train_Xception, train_targets, \n",
    "          validation_data=(valid_Xception, valid_targets),\n",
    "          epochs=20, batch_size=20, callbacks=[checkpointer], verbose=1)"
   ]
  },
  {
   "cell_type": "markdown",
   "metadata": {},
   "source": [
    "### (IMPLEMENTATION) Load the Model with the Best Validation Loss"
   ]
  },
  {
   "cell_type": "code",
   "execution_count": 29,
   "metadata": {
    "collapsed": true
   },
   "outputs": [],
   "source": [
    "### TODO: Load the model weights with the best validation loss.\n",
    "\n",
    "Xception_model.load_weights('saved_models/weights.best.Xception.hdf5')"
   ]
  },
  {
   "cell_type": "markdown",
   "metadata": {},
   "source": [
    "### (IMPLEMENTATION) Test the Model\n",
    "\n",
    "Try out your model on the test dataset of dog images. Ensure that your test accuracy is greater than 60%."
   ]
  },
  {
   "cell_type": "code",
   "execution_count": 30,
   "metadata": {},
   "outputs": [
    {
     "name": "stdout",
     "output_type": "stream",
     "text": [
      "Test accuracy: 80.4000%\n"
     ]
    }
   ],
   "source": [
    "### TODO: Calculate classification accuracy on the test dataset.\n",
    "\n",
    "# get index of predicted dog breed for each image in test set\n",
    "Xception_predictions = [np.argmax(Xception_model.predict(np.expand_dims(feature, axis=0))) for feature in test_Xception]\n",
    "\n",
    "# report test accuracy\n",
    "test_accuracy = 100*np.sum(np.array(Xception_predictions)==np.argmax(test_targets, axis=1))/len(Xception_predictions)\n",
    "print('Test accuracy: %.4f%%' % test_accuracy)"
   ]
  },
  {
   "cell_type": "markdown",
   "metadata": {},
   "source": [
    "### (IMPLEMENTATION) Predict Dog Breed with the Model\n",
    "\n",
    "Write a function that takes an image path as input and returns the dog breed (`Affenpinscher`, `Afghan_hound`, etc) that is predicted by your model.  \n",
    "\n",
    "Similar to the analogous function in Step 5, your function should have three steps:\n",
    "1. Extract the bottleneck features corresponding to the chosen CNN model.\n",
    "2. Supply the bottleneck features as input to the model to return the predicted vector.  Note that the argmax of this prediction vector gives the index of the predicted dog breed.\n",
    "3. Use the `dog_names` array defined in Step 0 of this notebook to return the corresponding breed.\n",
    "\n",
    "The functions to extract the bottleneck features can be found in `extract_bottleneck_features.py`, and they have been imported in an earlier code cell.  To obtain the bottleneck features corresponding to your chosen CNN architecture, you need to use the function\n",
    "\n",
    "    extract_{network}\n",
    "    \n",
    "where `{network}`, in the above filename, should be one of `VGG19`, `Resnet50`, `InceptionV3`, or `Xception`."
   ]
  },
  {
   "cell_type": "code",
   "execution_count": 31,
   "metadata": {
    "collapsed": true
   },
   "outputs": [],
   "source": [
    "### TODO: Write a function that takes a path to an image as input\n",
    "### and returns the dog breed that is predicted by the model.\n",
    "from extract_bottleneck_features import *\n",
    "\n",
    "def Xception_predict_breed(img_path):\n",
    "    \n",
    "    # extract bottleneck features\n",
    "    bottleneck_feature = extract_Xception(path_to_tensor(img_path))\n",
    "    \n",
    "    # obtain predicted vector\n",
    "    predicted_vector = Xception_model.predict(bottleneck_feature)\n",
    "    \n",
    "    # return dog breed that is predicted by the model\n",
    "    return dog_names[np.argmax(predicted_vector)]"
   ]
  },
  {
   "cell_type": "markdown",
   "metadata": {},
   "source": [
    "---\n",
    "<a id='step6'></a>\n",
    "## Step 6: Write your Algorithm\n",
    "\n",
    "Write an algorithm that accepts a file path to an image and first determines whether the image contains a human, dog, or neither.  Then,\n",
    "- if a __dog__ is detected in the image, return the predicted breed.\n",
    "- if a __human__ is detected in the image, return the resembling dog breed.\n",
    "- if __neither__ is detected in the image, provide output that indicates an error.\n",
    "\n",
    "You are welcome to write your own functions for detecting humans and dogs in images, but feel free to use the `face_detector` and `dog_detector` functions developed above.  You are __required__ to use your CNN from Step 5 to predict dog breed.  \n",
    "\n",
    "Some sample output for our algorithm is provided below, but feel free to design your own user experience!\n",
    "\n",
    "![Sample Human Output](images/sample_human_output.png)\n",
    "\n",
    "\n",
    "### (IMPLEMENTATION) Write your Algorithm"
   ]
  },
  {
   "cell_type": "code",
   "execution_count": 32,
   "metadata": {
    "collapsed": true
   },
   "outputs": [],
   "source": [
    "### TODO: Write your algorithm.\n",
    "### Feel free to use as many code cells as needed.\n",
    "%matplotlib inline     \n",
    "\n",
    "def human_dog_detector(img_path):\n",
    "    \n",
    "    # Read in the image from a file\n",
    "    img = cv2.imread(img_path)\n",
    "    \n",
    "    # Check to see if either a dog or human is detected\n",
    "    is_dog = dog_detector(img_path)\n",
    "    is_human = face_detector(img_path)\n",
    "    \n",
    "    # A Unambiguous detection of a dog\n",
    "    if(is_dog==True and is_human == False):\n",
    "        print(\"Hello Dog!\")\n",
    "        valid_image = True\n",
    "    \n",
    "    # A Unambiguous detection of a Human\n",
    "    if(is_dog== False and is_human== True):\n",
    "        print(\"Hello Human!\")\n",
    "        valid_image = True\n",
    "    \n",
    "    # A Ambiguous detection of a dog or human\n",
    "    if(is_dog== True and is_human== True):\n",
    "        print(\"Warning: Ambiguous Image, Cannot Distinguish if image is dog or a human\")\n",
    "        valid_image = True\n",
    "    \n",
    "    # No objects detected\n",
    "    if(is_dog==False and is_human == False):\n",
    "        print(\"Error: No Object Detected, Try a different image\")\n",
    "        valid_image = False\n",
    "    \n",
    "    if(valid_image==True):\n",
    "        # convert BGR image to RGB for plottin\n",
    "        cv_rgb = cv2.cvtColor(img, cv2.COLOR_BGR2RGB)\n",
    "        # display the image, along with bounding box\n",
    "         # Identify the Dog Breed\n",
    "        breed_name = Xception_predict_breed(img_path)\n",
    "        print(\"You look like a ...\")\n",
    "        print(breed_name)\n",
    "        \n",
    "        plt.imshow(cv_rgb)\n",
    "        plt.show()\n",
    "    \n"
   ]
  },
  {
   "cell_type": "markdown",
   "metadata": {},
   "source": [
    "---\n",
    "<a id='step7'></a>\n",
    "## Step 7: Test Your Algorithm\n",
    "\n",
    "In this section, you will take your new algorithm for a spin!  What kind of dog does the algorithm think that __you__ look like?  If you have a dog, does it predict your dog's breed accurately?  If you have a cat, does it mistakenly think that your cat is a dog?\n",
    "\n",
    "### (IMPLEMENTATION) Test Your Algorithm on Sample Images!\n",
    "\n",
    "Test your algorithm at least six images on your computer.  Feel free to use any images you like.  Use at least two human and two dog images.  \n",
    "\n",
    "__Question 6:__ Is the output better than you expected :) ?  Or worse :( ?  Provide at least three possible points of improvement for your algorithm.\n",
    "\n",
    "__Answer:__  The output seems to work better than I expected. The three possible points of improvement are  \n",
    "1. The face detector does not seem to work all of the time, so instead of using the Cascade classifier for faces, another better-performing model to detect human faces should be built.\n",
    "2. Sometimes the dog detector will misclassify a dog breed, or not detect a dog at all. The algorithm could be improved if the dog classifier could be made more robust. This could be accomplished using more training data.\n",
    "3. Different CNN models can be used to explore which CNN architectures make the best predictions. Experimenting with different set-ups using k-fold cross-validation would allow one to find the optimal model. "
   ]
  },
  {
   "cell_type": "code",
   "execution_count": 19,
   "metadata": {},
   "outputs": [
    {
     "ename": "NameError",
     "evalue": "name 'human_dog_detector' is not defined",
     "output_type": "error",
     "traceback": [
      "\u001b[0;31m---------------------------------------------------------------------------\u001b[0m",
      "\u001b[0;31mNameError\u001b[0m                                 Traceback (most recent call last)",
      "\u001b[0;32m<ipython-input-19-f0a99ef80f41>\u001b[0m in \u001b[0;36m<module>\u001b[0;34m()\u001b[0m\n\u001b[1;32m     16\u001b[0m \u001b[0;31m# Evaluate the sample images\u001b[0m\u001b[0;34m\u001b[0m\u001b[0;34m\u001b[0m\u001b[0m\n\u001b[1;32m     17\u001b[0m \u001b[0;32mfor\u001b[0m \u001b[0mf\u001b[0m \u001b[0;32min\u001b[0m \u001b[0mimg_filePaths\u001b[0m\u001b[0;34m:\u001b[0m\u001b[0;34m\u001b[0m\u001b[0m\n\u001b[0;32m---> 18\u001b[0;31m     \u001b[0mhuman_dog_detector\u001b[0m\u001b[0;34m(\u001b[0m\u001b[0mf\u001b[0m\u001b[0;34m)\u001b[0m\u001b[0;34m\u001b[0m\u001b[0m\n\u001b[0m",
      "\u001b[0;31mNameError\u001b[0m: name 'human_dog_detector' is not defined"
     ]
    }
   ],
   "source": [
    "## TODO: Execute your algorithm from Step 6 on\n",
    "## at least 6 images on your computer.\n",
    "## Feel free to use as many code cells as needed.\n",
    "import pathlib\n",
    "from os import listdir\n",
    "from os.path import isfile, join\n",
    "sample_image_dir = \"/my_images\"\n",
    "\n",
    "cur_dir = pathlib.Path(\".\").parent.absolute()\n",
    "sub_dir = str(cur_dir)+sample_image_dir \n",
    "\n",
    "# Retrive all of the files inside the sample image directory\n",
    "onlyfiles = [f for f in listdir(sub_dir) if isfile(join(sub_dir, f))]\n",
    "img_filePaths = [str(sub_dir)+x for x in onlyfiles]\n",
    "\n",
    "# Evaluate the sample images\n",
    "for f in img_filePaths:\n",
    "    human_dog_detector(f)"
   ]
  },
  {
   "cell_type": "code",
   "execution_count": null,
   "metadata": {
    "collapsed": true
   },
   "outputs": [],
   "source": []
  }
 ],
 "metadata": {
  "anaconda-cloud": {},
  "kernelspec": {
   "display_name": "Python 3",
   "language": "python",
   "name": "python3"
  },
  "language_info": {
   "codemirror_mode": {
    "name": "ipython",
    "version": 3
   },
   "file_extension": ".py",
   "mimetype": "text/x-python",
   "name": "python",
   "nbconvert_exporter": "python",
   "pygments_lexer": "ipython3",
   "version": "3.6.1"
  }
 },
 "nbformat": 4,
 "nbformat_minor": 1
}
