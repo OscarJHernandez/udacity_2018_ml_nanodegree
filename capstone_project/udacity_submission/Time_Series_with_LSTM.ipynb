{
 "cells": [
  {
   "cell_type": "markdown",
   "metadata": {},
   "source": [
    "## This notebook contains all of the code required to generate the results of the time series predictions with uncertainty bands using the LSTM architecture."
   ]
  },
  {
   "cell_type": "code",
   "execution_count": 1,
   "metadata": {},
   "outputs": [
    {
     "name": "stderr",
     "output_type": "stream",
     "text": [
      "/home/javier/anaconda3/envs/py35/lib/python3.5/importlib/_bootstrap.py:222: RuntimeWarning: numpy.dtype size changed, may indicate binary incompatibility. Expected 96, got 88\n",
      "  return f(*args, **kwds)\n",
      "/home/javier/anaconda3/envs/py35/lib/python3.5/importlib/_bootstrap.py:222: RuntimeWarning: numpy.dtype size changed, may indicate binary incompatibility. Expected 96, got 88\n",
      "  return f(*args, **kwds)\n",
      "Using TensorFlow backend.\n",
      "/home/javier/anaconda3/envs/py35/lib/python3.5/importlib/_bootstrap.py:222: RuntimeWarning: numpy.dtype size changed, may indicate binary incompatibility. Expected 96, got 88\n",
      "  return f(*args, **kwds)\n",
      "/home/javier/anaconda3/envs/py35/lib/python3.5/importlib/_bootstrap.py:222: RuntimeWarning: numpy.dtype size changed, may indicate binary incompatibility. Expected 96, got 88\n",
      "  return f(*args, **kwds)\n"
     ]
    }
   ],
   "source": [
    "import numpy as np\n",
    "import matplotlib.pyplot as plt\n",
    "import pandas as pd\n",
    "import math\n",
    "from keras.models import Sequential\n",
    "from keras.layers import Dense\n",
    "from keras.layers import LSTM"
   ]
  },
  {
   "cell_type": "code",
   "execution_count": 2,
   "metadata": {},
   "outputs": [
    {
     "name": "stdout",
     "output_type": "stream",
     "text": [
      "train data (73, 1)\n",
      "ymax 302.0\n",
      "ymin 104.0\n",
      "ymax 622.0\n",
      "ymin 233.0\n"
     ]
    }
   ],
   "source": [
    "# Here we select the data set of interest and comment out the data sets we are not considering\n",
    "\n",
    "fileName = \"data/international-airline-passengers.csv\"\n",
    "#fileName = \"data/wolfer-sunspot-numbers-1770-to-1.csv\"\n",
    "#fleName ='data/EURUSD_15m_BID_01.01.2010-31.12.2016.csv'\n",
    "\n",
    "# Load the data\n",
    "df = pd.read_csv(fileName, engine='python', skipfooter=3)\n",
    "\n",
    "\n",
    "# Depending on the dataset that we use, the name of the 'Time' column is different\n",
    "if(fileName=='data/international-airline-passengers.csv'):\n",
    "    time_column_name = 'Month'\n",
    "elif(fileName=='data/wolfer-sunspot-numbers-1770-to-1.csv'):\n",
    "    time_column_name='Year'\n",
    "elif(fileName=='data/EURUSD_15m_BID_01.01.2010-31.12.2016.csv'):\n",
    "    time_column_name='Time'\n",
    "    df = df[['Time', 'Close']].copy()\n",
    "\n",
    "# Convert the time column into appropriate format\n",
    "df[time_column_name]=pd.to_datetime(df[time_column_name], format='%Y-%m-%d')\n",
    "df.set_index([time_column_name], inplace=True)\n",
    "\n",
    "\n",
    "if(fileName=='data/EURUSD_15m_BID_01.01.2010-31.12.2016.csv'):\n",
    "    \n",
    "    # Split the data set into training and test sets\n",
    "    train_data = df['2016-01-01 00:00':'2016-05-01 00:00']\n",
    "    test_data = df['2016-05-01 00:15':'2016-06-30 23:45']\n",
    "    \n",
    "    # Convert the training and test set into a flattened array\n",
    "    time_vals = df[train_data.index[0]:test_data.index[len(test_data)-1]]\n",
    "    train_data = train_data.values.astype('float32')\n",
    "    test_data = test_data.values.astype('float32')\n",
    "    number_of_epochs=10\n",
    "    N_uncert_samples = 100 # The number of samples to generate for uncertainty bands\n",
    "    \n",
    "    # Extract the raw data, without the dates\n",
    "elif(fileName=='data/wolfer-sunspot-numbers-1770-to-1.csv'):\n",
    "    time_vals = df[df.index[0]:df.index[len(df)-1]]\n",
    "    data = df.values\n",
    "    data = data.astype('float32')\n",
    "    \n",
    "    # Now we split the data into test and train\n",
    "    split = 71\n",
    "    train_data =  data[0:split,:]\n",
    "    test_data = data[split:,:]\n",
    "    number_of_epochs=300\n",
    "    N_uncert_samples = 300 # The number of samples to generate for uncertainty bands\n",
    "    \n",
    "    \n",
    "elif('data/international-airline-passengers.csv'):\n",
    "    time_vals = df[df.index[0]:df.index[len(df)-1]]\n",
    "    data = df.values\n",
    "    data = data.astype('float32')\n",
    "    \n",
    "    # Now we split the data and apply the data scalar\n",
    "    split = 73\n",
    "    train_data =  data[0:split,:]\n",
    "    test_data = data[split:,:]\n",
    "    number_of_epochs=300\n",
    "    N_uncert_samples = 300 # The number of samples to generate for uncertainty bands\n",
    "    \n",
    "print(\"train data\", train_data.shape)\n",
    "\n",
    "def future_data(data,lags=1,future=1):\n",
    "    '''\n",
    "    This function, takes in the time series [X_t] and returns the array\n",
    "    X=[X_{t-1}]\n",
    "    Y=[X_t]\n",
    "    '''\n",
    "    \n",
    "    X, y = [], []\n",
    "    for row in range(len(data) - lags - future):\n",
    "        a = data[row:(row + lags), 0]\n",
    "        X.append(a)\n",
    "        y.append(data[row + lags+future-1, 0])\n",
    "    return np.array(X), np.array(y)\n",
    "\n",
    "def scale_array(y_vec):\n",
    "    '''\n",
    "    This scales the input data according to the transformation:\n",
    "    \n",
    "    F(xi)=(xi-xmin)/(x_max - x_min)\n",
    "    \n",
    "    This assures that the data set is in the range [0,1]\n",
    "    \n",
    "    '''\n",
    "    \n",
    "    ymax = np.max(y_vec)\n",
    "    ymin = np.min(y_vec)\n",
    "    \n",
    "    print(\"ymax\",ymax)\n",
    "    print(\"ymin\",ymin)\n",
    "    \n",
    "    y_vec_scaled = np.zeros((len(y_vec),1))\n",
    "    \n",
    "    for k in range(0,len(y_vec)):\n",
    "        y_vec_scaled[k][0] = (y_vec[k][0]-ymin)/(ymax-ymin)\n",
    "    \n",
    "    return y_vec_scaled,ymin,ymax\n",
    "\n",
    "def invert_scaling(y_vec_scaled,ymin,ymax):\n",
    "    '''\n",
    "    This function inverts the scaling transformation\n",
    "    '''\n",
    "    \n",
    "    y_vec = np.zeros(y_vec_scaled.shape)\n",
    "        \n",
    "        \n",
    "    for k in range(0,len(y_vec_scaled)):\n",
    "        y_vec[k] = ymin+(ymax-ymin)*y_vec_scaled[k]\n",
    "    \n",
    "    return y_vec\n",
    "\n",
    "# Process the train and test data\n",
    "train_data,train_min,train_max = scale_array(train_data)\n",
    "test_data,test_min,test_max = scale_array(test_data)\n",
    "\n",
    "# Here we choose the number of lags for the data set, and how far into the future we are planning to predict\n",
    "lags=1\n",
    "future=1\n",
    "\n",
    "\n",
    "# Process the training and testing data\n",
    "X_train, y_train = future_data(train_data, lags,future)\n",
    "X_test, y_test = future_data(test_data, lags,future)\n",
    "\n",
    "\n",
    "# Reshape the arrays\n",
    "X_train = np.reshape(X_train,(X_train.shape[0],1,X_train.shape[1]))\n",
    "X_test = np.reshape(X_test,(X_test.shape[0],1,X_test.shape[1]))"
   ]
  },
  {
   "cell_type": "code",
   "execution_count": 3,
   "metadata": {},
   "outputs": [
    {
     "name": "stderr",
     "output_type": "stream",
     "text": [
      "/home/javier/anaconda3/envs/py35/lib/python3.5/importlib/_bootstrap.py:222: RuntimeWarning: numpy.dtype size changed, may indicate binary incompatibility. Expected 96, got 88\n",
      "  return f(*args, **kwds)\n",
      "/home/javier/anaconda3/envs/py35/lib/python3.5/importlib/_bootstrap.py:222: RuntimeWarning: numpy.dtype size changed, may indicate binary incompatibility. Expected 96, got 88\n",
      "  return f(*args, **kwds)\n",
      "/home/javier/anaconda3/envs/py35/lib/python3.5/site-packages/ipykernel/__main__.py:9: UserWarning: The `input_dim` and `input_length` arguments in recurrent layers are deprecated. Use `input_shape` instead.\n",
      "/home/javier/anaconda3/envs/py35/lib/python3.5/site-packages/ipykernel/__main__.py:9: UserWarning: Update your `LSTM` call to the Keras 2 API: `LSTM(4, input_shape=(None, 1))`\n",
      "/home/javier/anaconda3/envs/py35/lib/python3.5/site-packages/ipykernel/__main__.py:9: UserWarning: Update your `LSTM` call to the Keras 2 API: `LSTM(5, input_shape=(None, 1))`\n"
     ]
    }
   ],
   "source": [
    "from sklearn.model_selection import GridSearchCV\n",
    "from keras.wrappers.scikit_learn import KerasRegressor\n",
    "\n",
    "def build_model(neurons):\n",
    "    '''\n",
    "    This function build the Feed Forward Neural Network model with a variable number of nodes.\n",
    "    '''\n",
    "    model = Sequential()\n",
    "    model.add(LSTM(neurons, input_dim=lags))\n",
    "    model.add(Dense(1))\n",
    "    model.compile(loss='mean_squared_error', optimizer='adam')\n",
    "    return model\n",
    "\n",
    "# Construct the Regressor model\n",
    "regressor = KerasRegressor(build_fn = build_model,verbose=0)\n",
    "parameters = {'batch_size': [5], \n",
    "              'epochs': [number_of_epochs],\n",
    "              'neurons': [4,5]}\n",
    "grid_search = GridSearchCV(estimator = regressor,\n",
    "                           param_grid = parameters,\n",
    "                           scoring = 'neg_mean_squared_error',\n",
    "                           cv = 10)\n",
    "\n",
    "# Fit the various models using the object defined above\n",
    "grid_search = grid_search.fit(X_train, y_train)\n",
    "best_parameters = grid_search.best_params_\n",
    "best_accuracy = grid_search.best_score_\n",
    "\n",
    "# Now we build and train the optimal model\n",
    "model = build_model(neurons=best_parameters['neurons'])\n",
    "\n",
    "# Store the history of loss of the optimal function\n",
    "history=model.fit(X_train, y_train, epochs=best_parameters['epochs'], batch_size=best_parameters['batch_size'], verbose=0)\n",
    "\n",
    "\n",
    "# Create and fit the LSTM network model\n",
    "#model = Sequential()\n",
    "#model.add(LSTM(4, input_dim=lags))\n",
    "#model.add(Dense(1))\n",
    "#model.compile(loss='mean_squared_error', optimizer='adam')\n",
    "\n",
    "# Store the history of the model to plot the progress\n",
    "#history=model.fit(X_train, y_train, epochs=number_of_epochs, batch_size=2, verbose=1)"
   ]
  },
  {
   "cell_type": "code",
   "execution_count": 4,
   "metadata": {},
   "outputs": [
    {
     "name": "stdout",
     "output_type": "stream",
     "text": [
      "Best Parameters: {'epochs': 300, 'neurons': 5, 'batch_size': 5}\n",
      "Best Neg mean squared error:  -0.009075526910700129\n",
      "_________________________________________________________________\n",
      "Layer (type)                 Output Shape              Param #   \n",
      "=================================================================\n",
      "lstm_22 (LSTM)               (None, 5)                 140       \n",
      "_________________________________________________________________\n",
      "dense_22 (Dense)             (None, 1)                 6         \n",
      "=================================================================\n",
      "Total params: 146\n",
      "Trainable params: 146\n",
      "Non-trainable params: 0\n",
      "_________________________________________________________________\n"
     ]
    }
   ],
   "source": [
    "# Summarize the LSTM network model\n",
    "# Print out the best parameters of the model\n",
    "print('Best Parameters:' , best_parameters)\n",
    "print('Best Neg mean squared error: ', best_accuracy)\n",
    "\n",
    "\n",
    "# Summarize the Feed forward neural network model\n",
    "model.summary()"
   ]
  },
  {
   "cell_type": "code",
   "execution_count": 5,
   "metadata": {},
   "outputs": [
    {
     "name": "stdout",
     "output_type": "stream",
     "text": [
      "dict_keys(['loss'])\n"
     ]
    },
    {
     "data": {
      "image/png": "[encoded data removed]",
      "text/plain": [
       "<Figure size 432x288 with 1 Axes>"
      ]
     },
     "metadata": {},
     "output_type": "display_data"
    }
   ],
   "source": [
    "#--------------------------------------------------------------------\n",
    "# Here we plot the loss of the FFNN model with the number of Epochs in the training\n",
    "#--------------------------------------------------------------------\n",
    "\n",
    "\n",
    "print(history.history.keys())\n",
    "\n",
    "\n",
    "if(fileName=='data/international-airline-passengers.csv'):\n",
    "    loss_label = 'figures/Loss_airline_LSTM.pdf'\n",
    "elif(fileName=='data/wolfer-sunspot-numbers-1770-to-1.csv'):\n",
    "    loss_label = 'figures/Loss_sunspot_LSTM.pdf'\n",
    "elif(fileName=='data/EURUSD_15m_BID_01.01.2010-31.12.2016.csv'):\n",
    "    loss_label = 'figures/Loss_EURUSD_LSTM.pdf'\n",
    "\n",
    "plt.plot()\n",
    "plt.plot(history.history['loss'],color='b')\n",
    "plt.ylabel('Loss',fontsize=15)\n",
    "plt.xlabel('Epoch',fontsize=20)\n",
    "plt.savefig(loss_label,bboxes='tight')\n",
    "plt.show()"
   ]
  },
  {
   "cell_type": "code",
   "execution_count": 6,
   "metadata": {},
   "outputs": [
    {
     "name": "stdout",
     "output_type": "stream",
     "text": [
      "Estimated Sigma:  0.0451901792143674 0.06087967096290851\n"
     ]
    },
    {
     "data": {
      "image/png": "[encoded data removed]",
      "text/plain": [
       "<Figure size 432x288 with 1 Axes>"
      ]
     },
     "metadata": {},
     "output_type": "display_data"
    },
    {
     "name": "stdout",
     "output_type": "stream",
     "text": [
      "-------------------------------------\n",
      "MSE:  654.2102281700838\n",
      "RMSE:  25.577533660814208\n",
      "-------------------------------------\n"
     ]
    }
   ],
   "source": [
    "# The number of random samples that we will use to generate uncertainty bands\n",
    "uncertainty_samples = N_uncert_samples\n",
    "\n",
    "# We generate predictions on the training and test data sets\n",
    "train_predict = model.predict(X_train)\n",
    "test_predict = model.predict(X_test)\n",
    "\n",
    "# We compute the residuals of the fitted model to the training set\n",
    "residuals = np.abs(y_test.reshape(-1, 1) - test_predict.reshape(-1, 1))\n",
    "\n",
    "# Here we estimate the average residual \n",
    "sigma = 0.5*np.mean(residuals)\n",
    "std_sigma =  0.5*np.std(residuals)\n",
    "print(\"Estimated Sigma: \", sigma, np.std(residuals))\n",
    "\n",
    "# Here we perturb the test set and generate predictions based on pertrubed data, to generate uncertainty bands\n",
    "test_predictions = []\n",
    "for k in range(0,uncertainty_samples):\n",
    "    test_predict = model.predict(X_test)+np.random.normal(sigma, std_sigma, test_predict.shape)\n",
    "    test_predictions.append(test_predict)\n",
    "\n",
    "test_predictions = np.asarray(test_predictions)\n",
    "\n",
    "\n",
    "# Unscale data\n",
    "#test_predictions = scaler.inverse_transform(test_predictions)\n",
    "y_train = invert_scaling(y_train,train_min,train_max)\n",
    "train_predict = invert_scaling(train_predict,train_min,train_max)\n",
    "\n",
    "# plot baseline and predictions\n",
    "plt.plot(y_train, label='Training data');\n",
    "plt.plot(train_predict[future:], label=\"Predictions on Training Data\")\n",
    "plt.legend(loc='best');\n",
    "plt.title('Artificial Neural Network')\n",
    "plt.show()\n",
    "\n",
    "\n",
    "# Flatten the array\n",
    "y = test_predict.flatten()[future:]\n",
    "\n",
    "def return_min_max_prediction(test_predictions,i):\n",
    "    '''\n",
    "    This function will return the maxium and minimum values of the sampled predictions\n",
    "    in order to generate the uncertainty bands\n",
    "    '''\n",
    "    \n",
    "    y_vec = [ test_predictions[k][i][0] for k in range(0,test_predictions.shape[0])]\n",
    "    \n",
    "    ymin = np.min(y_vec)\n",
    "    ymax = np.max(y_vec)\n",
    "    \n",
    "    return ymin,ymax\n",
    "\n",
    "# Compute the upper and lower bands of the sampled predictions\n",
    "y_min = np.asarray([return_min_max_prediction(test_predictions,i)[0] for i in range(0,len(y))])\n",
    "y_max = np.asarray([return_min_max_prediction(test_predictions,i)[1] for i in range(0,len(y))])\n",
    "x = np.arange(-future,len(y_min)-future)\n",
    "\n",
    "\n",
    "# Unscale all of the data, to produce data in the scale of the original set\n",
    "y_test = invert_scaling(y_test,test_min,test_max)\n",
    "y_min = invert_scaling(y_min,test_min,test_max)\n",
    "y_max = invert_scaling(y_max,test_min,test_max)\n",
    "y = invert_scaling(y,test_min,test_max)\n",
    "\n",
    "x_test = range(len(y_train),len(y_train)+len(y_test))\n",
    "x = range(len(y_train),len(y_train)+len(y))\n",
    "\n",
    "# Compute the root mean squared error\n",
    "mse = ((y_test[:-1].reshape(-1, 1) - y.reshape(-1, 1)) ** 2).mean()\n",
    "\n",
    "\n",
    "print('-------------------------------------')\n",
    "print(\"MSE: \", mse)\n",
    "print(\"RMSE: \", np.sqrt(mse))\n",
    "print('-------------------------------------')"
   ]
  },
  {
   "cell_type": "code",
   "execution_count": 7,
   "metadata": {},
   "outputs": [
    {
     "data": {
      "image/png": "[encoded data removed]",
      "text/plain": [
       "<Figure size 432x288 with 1 Axes>"
      ]
     },
     "metadata": {},
     "output_type": "display_data"
    }
   ],
   "source": [
    "if(fileName=='data/international-airline-passengers.csv'):\n",
    "    time_steps = 15\n",
    "    time_format= \"%Y\"\n",
    "    y_label = 'Number of Airline Passengers'\n",
    "    output_name = 'figures/Airline_Passengers_LSTN.pdf'\n",
    "elif(fileName=='data/wolfer-sunspot-numbers-1770-to-1.csv'):\n",
    "    time_steps = 10\n",
    "    time_format= \"%Y\"\n",
    "    y_label = 'Number of Sunspots'\n",
    "    output_name = 'figures/Sunspot_Forecast_LSTN.pdf'\n",
    "elif(fileName=='data/EURUSD_15m_BID_01.01.2010-31.12.2016.csv'):\n",
    "    time_format= \"%m-%H:%M\"\n",
    "    time_steps = 2800\n",
    "    y_label = 'Exchange Rate EUR/USD'\n",
    "    output_name = 'figures/EURO_USD_exchange_rate_LSTN.pdf'\n",
    "\n",
    "\n",
    "vals= range(0,len(y_train)+len(y_test),time_steps)\n",
    "labels = [time_vals.index[k].strftime(time_format) for k in vals]\n",
    "\n",
    "# Now we plot the predictions with the uncertainty bands \n",
    "plt.xticks(vals, labels)\n",
    "plt.ylabel(y_label,fontsize=15)\n",
    "plt.xlabel('Date',fontsize=20)\n",
    "plt.plot(y_train, label='Training data',color='b');\n",
    "plt.plot(x_test,y_test.reshape(-1, 1), label='Test Data', color='g')\n",
    "plt.plot(x,y, label='Test Prediction', color='red')\n",
    "plt.fill_between(x, y_min, y_max, facecolor='red', interpolate=True,alpha=0.3)\n",
    "plt.legend(loc=2)\n",
    "plt.savefig(output_name,bboxes='tight')\n",
    "plt.show()"
   ]
  },
  {
   "cell_type": "code",
   "execution_count": null,
   "metadata": {},
   "outputs": [],
   "source": []
  }
 ],
 "metadata": {
  "kernelspec": {
   "display_name": "Python [conda env:py35]",
   "language": "python",
   "name": "conda-env-py35-py"
  },
  "language_info": {
   "codemirror_mode": {
    "name": "ipython",
    "version": 3
   },
   "file_extension": ".py",
   "mimetype": "text/x-python",
   "name": "python",
   "nbconvert_exporter": "python",
   "pygments_lexer": "ipython3",
   "version": "3.5.5"
  }
 },
 "nbformat": 4,
 "nbformat_minor": 2
}
